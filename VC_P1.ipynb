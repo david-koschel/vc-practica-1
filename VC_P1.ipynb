{
 "cells": [
  {
   "cell_type": "markdown",
   "metadata": {},
   "source": [
    "Paquetes necesarios"
   ]
  },
  {
   "cell_type": "code",
   "metadata": {
    "ExecuteTime": {
     "end_time": "2024-09-17T22:23:45.999003Z",
     "start_time": "2024-09-17T22:23:45.671001Z"
    }
   },
   "source": [
    "import cv2  \n",
    "import numpy as np\n",
    "import matplotlib.pyplot as plt"
   ],
   "outputs": [],
   "execution_count": 2
  },
  {
   "cell_type": "markdown",
   "metadata": {},
   "source": "### TAREA 1"
  },
  {
   "metadata": {
    "ExecuteTime": {
     "end_time": "2024-09-17T21:29:26.990135Z",
     "start_time": "2024-09-17T21:29:26.900619Z"
    }
   },
   "cell_type": "code",
   "source": [
    "side = 800\n",
    "black_background = np.zeros((side, side, 1), dtype=np.uint8)\n",
    "for i in range(0, side, 100):\n",
    "    start = 0 if i % 200 == 0 else 100\n",
    "    for j in range(start, side, 200):\n",
    "        black_background[i:i + 100, j:j + 100, 0] = 255\n",
    "plt.imshow(black_background, cmap='gray')\n",
    "plt.axis('off')\n",
    "plt.show()\n"
   ],
   "outputs": [
    {
     "data": {
      "text/plain": [
       "<Figure size 640x480 with 1 Axes>"
      ],
      "image/png": "[encoded data removed]"
     },
     "metadata": {},
     "output_type": "display_data"
    }
   ],
   "execution_count": 8
  },
  {
   "cell_type": "markdown",
   "metadata": {},
   "source": [
    "### TAREA 2\n",
    "Crear una imagen estilo Mondrian (un ejemplo https://www3.gobiernodecanarias.org/medusa/ecoescuela/sa/2017/04/17/descubriendo-a-mondrian/ )"
   ]
  },
  {
   "metadata": {
    "ExecuteTime": {
     "end_time": "2024-09-17T22:31:46.816971Z",
     "start_time": "2024-09-17T22:31:46.746970Z"
    }
   },
   "cell_type": "code",
   "source": [
    "alto = 800\n",
    "ancho = 800\n",
    "\n",
    "mondrian = np.zeros((alto, ancho, 3), dtype=np.uint8)\n",
    "\n",
    "mondrian[0:200, 0:400, 0] = 255\n",
    "mondrian[0:400, 420:600, 0:3] = 255\n",
    "mondrian[0:100, 620:, 0:2] = 255\n",
    "mondrian[120:450, 620:, 2] = 255\n",
    "mondrian[220:400, 0:200, 0:3] = 255\n",
    "mondrian[220:400, 220:400, 0:3] = 255\n",
    "mondrian[420:500, 0:200, 0] = 255\n",
    "mondrian[520:600, 0:200, 0] = 255\n",
    "mondrian[420:450, 220:600, 0:2] = 255\n",
    "mondrian[620:800, 0:500, 2] = 255\n",
    "mondrian[470:800, 520:800, 0] = 255\n",
    "\n",
    "plt.axis('off')\n",
    "plt.imshow(mondrian)\n",
    "plt.show()\n"
   ],
   "outputs": [
    {
     "data": {
      "text/plain": [
       "<Figure size 640x480 with 1 Axes>"
      ],
      "image/png": "[encoded data removed]"
     },
     "metadata": {},
     "output_type": "display_data"
    }
   ],
   "execution_count": 5
  },
  {
   "cell_type": "markdown",
   "metadata": {},
   "source": [
    "### TAREA 3\n",
    "Resuelve una de las tareas previas (a elegir) con las funciones de dibujo de OpenCV :)"
   ]
  },
  {
   "metadata": {
    "ExecuteTime": {
     "end_time": "2024-09-17T22:31:59.115615Z",
     "start_time": "2024-09-17T22:31:59.062614Z"
    }
   },
   "cell_type": "code",
   "source": [
    "side = 800\n",
    "black_background = np.zeros((side, side, 3), dtype=np.uint8)\n",
    "for i in range(0, side, 100):\n",
    "    start = 0 if i % 200 == 0 else 100\n",
    "    for j in range(start, side, 200):\n",
    "        cv2.rectangle(black_background, (i, j), (i + 100, j + 100), (255, 255, 255), -1)\n",
    "plt.imshow(black_background, cmap='gray')\n",
    "plt.axis('off')\n",
    "plt.show()"
   ],
   "outputs": [
    {
     "data": {
      "text/plain": [
       "<Figure size 640x480 with 1 Axes>"
      ],
      "image/png": "[encoded data removed]"
     },
     "metadata": {},
     "output_type": "display_data"
    }
   ],
   "execution_count": 6
  },
  {
   "cell_type": "markdown",
   "metadata": {},
   "source": [
    "### TAREA 4\n",
    "TAREA: Modifica de forma libre los valores de un plano de la imagen"
   ]
  },
  {
   "metadata": {},
   "cell_type": "code",
   "outputs": [],
   "execution_count": null,
   "source": [
    "camera_video = cv2.VideoCapture(0)\n",
    "while True:\n",
    "    ret, frame = camera_video.read()\n",
    "\n",
    "    if ret:\n",
    "        # Separamos canales\n",
    "        b = frame[:, :, 0]\n",
    "        g = frame[:, :, 1]\n",
    "        r = frame[:, :, 2]\n",
    "        h, w, c = frame.shape\n",
    "\n",
    "        #Calculamos el canal blanco y negro\n",
    "        b_and_w = 0.299 * b + 0.587 * g + 0.114 * r\n",
    "\n",
    "        image = frame.copy()\n",
    "        image[:, :, 0] = b_and_w\n",
    "        image[:, :, 1] = b_and_w\n",
    "\n",
    "        #Creamos una máscara que detecta los píxeles menos intensos\n",
    "        not_enough_red_mask = (r / 2 < g) & (r / 1.5 < b)\n",
    "        image[:, :, 2][not_enough_red_mask] = b_and_w[not_enough_red_mask]\n",
    "\n",
    "        cv2.imshow('ESC to leave', image)\n",
    "\n",
    "    # Detenemos pulsado ESC\n",
    "    if cv2.waitKey(20) == 27:\n",
    "        break\n",
    "\n",
    "camera_video.release()\n",
    "cv2.destroyAllWindows()\n"
   ]
  },
  {
   "cell_type": "markdown",
   "metadata": {},
   "source": [
    "### TAREA 5\n",
    "Pintar círculos en las posiciones del píxel más claro y oscuro de la imagen \n",
    "¿Si quisieras hacerlo sobre la zona 8x8 más clara/oscura?"
   ]
  },
  {
   "metadata": {},
   "cell_type": "code",
   "outputs": [],
   "execution_count": null,
   "source": [
    "vid = cv2.VideoCapture(0)\n",
    "\n",
    "while True:\n",
    "    # fotograma a fotograma\n",
    "    ret, frame = vid.read()\n",
    "\n",
    "    # Hay nuevo fotograma\n",
    "    if ret:\n",
    "        # Convertir el fotograma a escala de grises\n",
    "        frame_gray = cv2.cvtColor(frame, cv2.COLOR_BGR2GRAY)\n",
    "\n",
    "        # Encontrar los píxeles más oscuros y más claros\n",
    "        min_val, max_val, min_loc, max_loc = cv2.minMaxLoc(frame_gray)\n",
    "\n",
    "        # Dibujar un círculo en el píxel más oscuro\n",
    "        cv2.circle(frame, min_loc, 10, (0, 0, 255), 2)\n",
    "\n",
    "        # Dibujar un círculo en el píxel más claro\n",
    "        cv2.circle(frame, max_loc, 10, (255, 0, 0), 2)\n",
    "\n",
    "        # Muestra fotograma\n",
    "        cv2.imshow('Vid', frame)\n",
    "\n",
    "    if cv2.waitKey(20) == 27:\n",
    "        break\n",
    "\n",
    "# Libera el objeto de captura\n",
    "vid.release()\n",
    "# Destruye ventanas\n",
    "cv2.destroyAllWindows()"
   ]
  },
  {
   "cell_type": "markdown",
   "metadata": {},
   "source": [
    "### TAREA 6\n",
    "Llevar a cabo una propuesta propia de pop art"
   ]
  },
  {
   "metadata": {
    "ExecuteTime": {
     "end_time": "2024-09-17T22:27:27.932917Z",
     "start_time": "2024-09-17T22:26:19.051852Z"
    }
   },
   "cell_type": "code",
   "source": [
    "camera_video = cv2.VideoCapture(0)\n",
    "\n",
    "while True:\n",
    "    # fotograma a fotograma\n",
    "    ret, frame = camera_video.read()\n",
    "\n",
    "    if ret:\n",
    "        # Separamos canales\n",
    "        b = frame[:, :, 0]\n",
    "        g = frame[:, :, 1]\n",
    "        r = frame[:, :, 2]\n",
    "\n",
    "        h, w, c = frame.shape\n",
    "        image1 = frame.copy()\n",
    "        image2 = frame.copy()\n",
    "        image3 = frame.copy()\n",
    "        image4 = frame.copy()\n",
    "\n",
    "        image1[:, :, 0] = b * 255\n",
    "        image1[:, :, 1] = g * 255\n",
    "        image1[:, :, 2] = r * 5\n",
    "\n",
    "        image2[:, :, 0] = b * 255\n",
    "        image2[:, :, 1] = g * 5\n",
    "        image2[:, :, 2] = r * 255\n",
    "\n",
    "        image3[:, :, 0] = b * 5\n",
    "        image3[:, :, 1] = g * 255\n",
    "        image3[:, :, 2] = r * 255\n",
    "\n",
    "        image4[:, :, 0] = b * 5\n",
    "        image4[:, :, 1] = g * 5\n",
    "        image4[:, :, 2] = r * 5\n",
    "\n",
    "        collage_up = np.hstack((image2, image1))\n",
    "        collage_down = np.hstack((image3, image4))\n",
    "        collage = np.vstack((collage_up, collage_down))\n",
    "\n",
    "        cv2.circle(collage, (w, h), 20, (0, 0, 0), 8)\n",
    "\n",
    "        cv2.imshow('ESC to leave', cv2.resize(collage, (w, h), cv2.INTER_NEAREST))\n",
    "\n",
    "    # Detenemos pulsado ESC\n",
    "    if cv2.waitKey(20) == 27:\n",
    "        break\n",
    "\n",
    "# Libera el objeto de captura\n",
    "camera_video.release()\n",
    "# Destruye ventanas\n",
    "cv2.destroyAllWindows()\n"
   ],
   "outputs": [],
   "execution_count": 4
  }
 ],
 "metadata": {
  "kernelspec": {
   "display_name": "Python 3.7.3 ('FACES')",
   "language": "python",
   "name": "python3"
  },
  "language_info": {
   "codemirror_mode": {
    "name": "ipython",
    "version": 3
   },
   "file_extension": ".py",
   "mimetype": "text/x-python",
   "name": "python",
   "nbconvert_exporter": "python",
   "pygments_lexer": "ipython3",
   "version": "3.11.5"
  },
  "orig_nbformat": 4,
  "vscode": {
   "interpreter": {
    "hash": "ea3a1ee99ce326e593ddb52cd278556d527fcb6552c40e2a47b1efb9d0183637"
   }
  }
 },
 "nbformat": 4,
 "nbformat_minor": 2
}
